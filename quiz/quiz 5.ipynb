{
 "cells": [
  {
   "cell_type": "code",
   "execution_count": 1,
   "id": "ab6f2c2c",
   "metadata": {},
   "outputs": [],
   "source": [
    "import cv2 as cv\n",
    "import numpy as np"
   ]
  },
  {
   "cell_type": "code",
   "execution_count": 2,
   "id": "34bef410",
   "metadata": {},
   "outputs": [],
   "source": [
    "img = cv.imread('images/city.jpeg')\n",
    "cv.imshow('city image', img)"
   ]
  },
  {
   "cell_type": "code",
   "execution_count": 3,
   "id": "33bb886b",
   "metadata": {},
   "outputs": [
    {
     "name": "stdout",
     "output_type": "stream",
     "text": [
      "[[[199 138 124]\n",
      "  [201 142 127]\n",
      "  [199 144 131]\n",
      "  ...\n",
      "  [217 221 226]\n",
      "  [217 221 226]\n",
      "  [217 221 226]]\n",
      "\n",
      " [[207 153 142]\n",
      "  [208 156 144]\n",
      "  [205 157 145]\n",
      "  ...\n",
      "  [217 221 226]\n",
      "  [217 221 226]\n",
      "  [217 221 226]]\n",
      "\n",
      " [[218 179 171]\n",
      "  [217 180 172]\n",
      "  [217 181 173]\n",
      "  ...\n",
      "  [217 221 226]\n",
      "  [217 221 226]\n",
      "  [217 221 226]]\n",
      "\n",
      " ...\n",
      "\n",
      " [[135 119 106]\n",
      "  [136 121 102]\n",
      "  [122 111  81]\n",
      "  ...\n",
      "  [ 49  54  55]\n",
      "  [ 76  75  71]\n",
      "  [126 123 115]]\n",
      "\n",
      " [[144 131 123]\n",
      "  [158 145 129]\n",
      "  [140 129 101]\n",
      "  ...\n",
      "  [ 41  37  26]\n",
      "  [ 44  37  20]\n",
      "  [ 69  62  42]]\n",
      "\n",
      " [[146 137 127]\n",
      "  [133 126 107]\n",
      "  [115 108  75]\n",
      "  ...\n",
      "  [ 71  63  46]\n",
      "  [ 61  55  32]\n",
      "  [ 47  40  13]]]\n"
     ]
    },
    {
     "data": {
      "text/plain": [
       "(615, 1000, 3)"
      ]
     },
     "execution_count": 3,
     "metadata": {},
     "output_type": "execute_result"
    }
   ],
   "source": [
    "data=np.asarray(img)\n",
    "\n",
    "print(data)\n",
    "data.shape"
   ]
  },
  {
   "cell_type": "code",
   "execution_count": 4,
   "id": "a13b026f",
   "metadata": {},
   "outputs": [
    {
     "data": {
      "text/plain": [
       "(1000, 615, 3)"
      ]
     },
     "execution_count": 4,
     "metadata": {},
     "output_type": "execute_result"
    }
   ],
   "source": [
    "newdata = data.reshape(1000,615,3)\n",
    "newdata.shape"
   ]
  },
  {
   "cell_type": "code",
   "execution_count": 5,
   "id": "fc90a570",
   "metadata": {},
   "outputs": [],
   "source": [
    "cv.imshow('reshaped', newdata)\n"
   ]
  },
  {
   "cell_type": "code",
   "execution_count": 6,
   "id": "d32edd57",
   "metadata": {},
   "outputs": [
    {
     "data": {
      "text/plain": [
       "True"
      ]
     },
     "execution_count": 6,
     "metadata": {},
     "output_type": "execute_result"
    }
   ],
   "source": [
    "cv.imwrite('rehaped_image.jpg', newdata)"
   ]
  },
  {
   "cell_type": "code",
   "execution_count": 7,
   "id": "c7cffad7",
   "metadata": {},
   "outputs": [],
   "source": [
    "#5 functions of OpenCv\n",
    "\n",
    "#converting image to gray scale\n",
    "gray_img = cv.cvtColor(img, cv.COLOR_BGR2GRAY)\n",
    "cv.imshow('gray', gray_img)\n",
    "\n",
    "#blur\n",
    "blur = cv.GaussianBlur(img, (3,3), cv.BORDER_DEFAULT)\n",
    "cv.imshow('blur', blur)\n",
    "\n",
    "#edge cascade(edge detection)\n",
    "canny = cv.Canny(img, 125, 150)\n",
    "cv.imshow('edge detection', canny)\n",
    "\n",
    "#dilating the image\n",
    "dilated_img = cv.dilate(canny, (7,7), iterations=3)\n",
    "cv.imshow('dilated image', dilated_img)\n",
    "\n",
    "#eroding image\n",
    "eroded_img = cv.erode(dilated_img, (7,7), iterations=3)\n",
    "cv.imshow('eroded image', eroded_img)\n",
    "\n",
    "cv.waitKey(0)\n",
    "cv.destroyAllWindows()\n",
    "\n"
   ]
  },
  {
   "cell_type": "code",
   "execution_count": 20,
   "id": "04b30179",
   "metadata": {},
   "outputs": [
    {
     "name": "stdout",
     "output_type": "stream",
     "text": [
      "[[[124 138 199]\n",
      "  [127 142 201]\n",
      "  [131 144 199]\n",
      "  ...\n",
      "  [217 221 226]\n",
      "  [217 221 226]\n",
      "  [217 221 226]]\n",
      "\n",
      " [[142 153 207]\n",
      "  [144 156 208]\n",
      "  [145 157 205]\n",
      "  ...\n",
      "  [217 221 226]\n",
      "  [217 221 226]\n",
      "  [217 221 226]]\n",
      "\n",
      " [[171 179 218]\n",
      "  [172 180 217]\n",
      "  [173 181 217]\n",
      "  ...\n",
      "  [217 221 226]\n",
      "  [217 221 226]\n",
      "  [217 221 226]]\n",
      "\n",
      " ...\n",
      "\n",
      " [[106 119 135]\n",
      "  [102 121 136]\n",
      "  [ 81 111 122]\n",
      "  ...\n",
      "  [ 49  54  55]\n",
      "  [ 71  75  76]\n",
      "  [115 123 126]]\n",
      "\n",
      " [[123 131 144]\n",
      "  [129 145 158]\n",
      "  [101 129 140]\n",
      "  ...\n",
      "  [ 26  37  41]\n",
      "  [ 20  37  44]\n",
      "  [ 42  62  69]]\n",
      "\n",
      " [[127 137 146]\n",
      "  [107 126 133]\n",
      "  [ 75 108 115]\n",
      "  ...\n",
      "  [ 46  63  71]\n",
      "  [ 32  55  61]\n",
      "  [ 13  40  47]]]\n",
      "214539158\n",
      "[      199       337       461 ... 214539105 214539145 214539158]\n",
      "116.2813864498645\n",
      "[array([[[199, 138, 124],\n",
      "        [201, 142, 127],\n",
      "        [199, 144, 131],\n",
      "        ...,\n",
      "        [239, 234, 235],\n",
      "        [239, 234, 235],\n",
      "        [239, 234, 235]],\n",
      "\n",
      "       [[239, 234, 235],\n",
      "        [239, 234, 235],\n",
      "        [239, 234, 235],\n",
      "        ...,\n",
      "        [237, 234, 226],\n",
      "        [237, 234, 226],\n",
      "        [239, 233, 226]],\n",
      "\n",
      "       [[241, 232, 228],\n",
      "        [241, 232, 228],\n",
      "        [241, 232, 229],\n",
      "        ...,\n",
      "        [234, 231, 233],\n",
      "        [234, 231, 233],\n",
      "        [234, 231, 233]],\n",
      "\n",
      "       ...,\n",
      "\n",
      "       [[131, 117, 105],\n",
      "        [140, 122, 111],\n",
      "        [121, 102,  94],\n",
      "        ...,\n",
      "        [130, 107,  99],\n",
      "        [130, 108, 103],\n",
      "        [150, 130, 125]],\n",
      "\n",
      "       [[159, 143, 131],\n",
      "        [120, 104,  91],\n",
      "        [140, 123, 114],\n",
      "        ...,\n",
      "        [121, 105,  92],\n",
      "        [116,  99,  86],\n",
      "        [124, 105,  92]],\n",
      "\n",
      "       [[127, 105,  93],\n",
      "        [139, 117, 106],\n",
      "        [122, 100,  89],\n",
      "        ...,\n",
      "        [106,  88,  77],\n",
      "        [100,  78,  66],\n",
      "        [ 93,  74,  61]]], dtype=uint8), array([[[ 67,  51,  39],\n",
      "        [ 47,  31,  19],\n",
      "        [ 53,  36,  23],\n",
      "        ...,\n",
      "        [134, 110,  80],\n",
      "        [144, 123,  95],\n",
      "        [150, 127, 105]],\n",
      "\n",
      "       [[164, 141, 133],\n",
      "        [130, 107, 122],\n",
      "        [219, 203, 226],\n",
      "        ...,\n",
      "        [148, 154, 159],\n",
      "        [214, 223, 236],\n",
      "        [168, 174, 185]],\n",
      "\n",
      "       [[118, 114, 120],\n",
      "        [189, 182, 185],\n",
      "        [204, 199, 201],\n",
      "        ...,\n",
      "        [101,  94,  91],\n",
      "        [ 82,  73,  70],\n",
      "        [113, 101,  99]],\n",
      "\n",
      "       ...,\n",
      "\n",
      "       [[134,  99,  79],\n",
      "        [130,  97,  71],\n",
      "        [128, 100,  69],\n",
      "        ...,\n",
      "        [ 64,  47,  28],\n",
      "        [ 19,   8,   0],\n",
      "        [ 91,  79,  43]],\n",
      "\n",
      "       [[146, 127,  92],\n",
      "        [145, 122,  84],\n",
      "        [135, 111,  65],\n",
      "        ...,\n",
      "        [ 96,  75,  67],\n",
      "        [ 97,  75,  63],\n",
      "        [110,  86,  68]],\n",
      "\n",
      "       [[120,  94,  78],\n",
      "        [127,  95,  89],\n",
      "        [ 89,  67,  72],\n",
      "        ...,\n",
      "        [ 71,  63,  46],\n",
      "        [ 61,  55,  32],\n",
      "        [ 47,  40,  13]]], dtype=uint8)]\n"
     ]
    }
   ],
   "source": [
    "# 5 functions of numpy\n",
    "print(np.sort(data))\n",
    "print(np.sum(data))\n",
    "print(np.cumsum(data))\n",
    "print(np.mean(data))\n",
    "print(np.array_split(newdata,2))"
   ]
  },
  {
   "cell_type": "code",
   "execution_count": null,
   "id": "82ca6b6d",
   "metadata": {},
   "outputs": [],
   "source": []
  }
 ],
 "metadata": {
  "kernelspec": {
   "display_name": "Python 3 (ipykernel)",
   "language": "python",
   "name": "python3"
  },
  "language_info": {
   "codemirror_mode": {
    "name": "ipython",
    "version": 3
   },
   "file_extension": ".py",
   "mimetype": "text/x-python",
   "name": "python",
   "nbconvert_exporter": "python",
   "pygments_lexer": "ipython3",
   "version": "3.10.5"
  }
 },
 "nbformat": 4,
 "nbformat_minor": 5
}
